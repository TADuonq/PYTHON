{
 "cells": [
  {
   "cell_type": "markdown",
   "metadata": {},
   "source": [
    "# Project: Nutrition Data Visualistion on 80 careal products"
   ]
  },
  {
   "cell_type": "code",
   "execution_count": 1,
   "metadata": {},
   "outputs": [],
   "source": [
    "import pandas as pd\n",
    "import numpy as np\n",
    "import matplotlib.pyplot as plt\n",
    "import seaborn as sns"
   ]
  },
  {
   "cell_type": "code",
   "execution_count": 2,
   "metadata": {},
   "outputs": [],
   "source": [
    "cereal_df = pd.read_csv(r'C:\\Users\\Administrator\\Duong\\Python\\Data Science\\Seaborn\\cereal.csv')"
   ]
  },
  {
   "cell_type": "code",
   "execution_count": 3,
   "metadata": {},
   "outputs": [
    {
     "data": {
      "text/html": [
       "<div>\n",
       "<style scoped>\n",
       "    .dataframe tbody tr th:only-of-type {\n",
       "        vertical-align: middle;\n",
       "    }\n",
       "\n",
       "    .dataframe tbody tr th {\n",
       "        vertical-align: top;\n",
       "    }\n",
       "\n",
       "    .dataframe thead th {\n",
       "        text-align: right;\n",
       "    }\n",
       "</style>\n",
       "<table border=\"1\" class=\"dataframe\">\n",
       "  <thead>\n",
       "    <tr style=\"text-align: right;\">\n",
       "      <th></th>\n",
       "      <th>name</th>\n",
       "      <th>mfr</th>\n",
       "      <th>type</th>\n",
       "      <th>calories</th>\n",
       "      <th>protein</th>\n",
       "      <th>fat</th>\n",
       "      <th>sodium</th>\n",
       "      <th>fiber</th>\n",
       "      <th>carbo</th>\n",
       "      <th>sugars</th>\n",
       "      <th>potass</th>\n",
       "      <th>vitamins</th>\n",
       "      <th>shelf</th>\n",
       "      <th>weight</th>\n",
       "      <th>cups</th>\n",
       "      <th>rating</th>\n",
       "    </tr>\n",
       "  </thead>\n",
       "  <tbody>\n",
       "    <tr>\n",
       "      <th>0</th>\n",
       "      <td>100% Bran</td>\n",
       "      <td>N</td>\n",
       "      <td>C</td>\n",
       "      <td>70</td>\n",
       "      <td>4</td>\n",
       "      <td>1</td>\n",
       "      <td>130</td>\n",
       "      <td>10.0</td>\n",
       "      <td>5.0</td>\n",
       "      <td>6</td>\n",
       "      <td>280</td>\n",
       "      <td>25</td>\n",
       "      <td>3</td>\n",
       "      <td>1.0</td>\n",
       "      <td>0.33</td>\n",
       "      <td>68.402973</td>\n",
       "    </tr>\n",
       "    <tr>\n",
       "      <th>1</th>\n",
       "      <td>100% Natural Bran</td>\n",
       "      <td>Q</td>\n",
       "      <td>C</td>\n",
       "      <td>120</td>\n",
       "      <td>3</td>\n",
       "      <td>5</td>\n",
       "      <td>15</td>\n",
       "      <td>2.0</td>\n",
       "      <td>8.0</td>\n",
       "      <td>8</td>\n",
       "      <td>135</td>\n",
       "      <td>0</td>\n",
       "      <td>3</td>\n",
       "      <td>1.0</td>\n",
       "      <td>1.00</td>\n",
       "      <td>33.983679</td>\n",
       "    </tr>\n",
       "    <tr>\n",
       "      <th>2</th>\n",
       "      <td>All-Bran</td>\n",
       "      <td>K</td>\n",
       "      <td>C</td>\n",
       "      <td>70</td>\n",
       "      <td>4</td>\n",
       "      <td>1</td>\n",
       "      <td>260</td>\n",
       "      <td>9.0</td>\n",
       "      <td>7.0</td>\n",
       "      <td>5</td>\n",
       "      <td>320</td>\n",
       "      <td>25</td>\n",
       "      <td>3</td>\n",
       "      <td>1.0</td>\n",
       "      <td>0.33</td>\n",
       "      <td>59.425505</td>\n",
       "    </tr>\n",
       "    <tr>\n",
       "      <th>3</th>\n",
       "      <td>All-Bran with Extra Fiber</td>\n",
       "      <td>K</td>\n",
       "      <td>C</td>\n",
       "      <td>50</td>\n",
       "      <td>4</td>\n",
       "      <td>0</td>\n",
       "      <td>140</td>\n",
       "      <td>14.0</td>\n",
       "      <td>8.0</td>\n",
       "      <td>0</td>\n",
       "      <td>330</td>\n",
       "      <td>25</td>\n",
       "      <td>3</td>\n",
       "      <td>1.0</td>\n",
       "      <td>0.50</td>\n",
       "      <td>93.704912</td>\n",
       "    </tr>\n",
       "    <tr>\n",
       "      <th>4</th>\n",
       "      <td>Almond Delight</td>\n",
       "      <td>R</td>\n",
       "      <td>C</td>\n",
       "      <td>110</td>\n",
       "      <td>2</td>\n",
       "      <td>2</td>\n",
       "      <td>200</td>\n",
       "      <td>1.0</td>\n",
       "      <td>14.0</td>\n",
       "      <td>8</td>\n",
       "      <td>-1</td>\n",
       "      <td>25</td>\n",
       "      <td>3</td>\n",
       "      <td>1.0</td>\n",
       "      <td>0.75</td>\n",
       "      <td>34.384843</td>\n",
       "    </tr>\n",
       "  </tbody>\n",
       "</table>\n",
       "</div>"
      ],
      "text/plain": [
       "                        name mfr type  calories  protein  fat  sodium  fiber  \\\n",
       "0                  100% Bran   N    C        70        4    1     130   10.0   \n",
       "1          100% Natural Bran   Q    C       120        3    5      15    2.0   \n",
       "2                   All-Bran   K    C        70        4    1     260    9.0   \n",
       "3  All-Bran with Extra Fiber   K    C        50        4    0     140   14.0   \n",
       "4             Almond Delight   R    C       110        2    2     200    1.0   \n",
       "\n",
       "   carbo  sugars  potass  vitamins  shelf  weight  cups     rating  \n",
       "0    5.0       6     280        25      3     1.0  0.33  68.402973  \n",
       "1    8.0       8     135         0      3     1.0  1.00  33.983679  \n",
       "2    7.0       5     320        25      3     1.0  0.33  59.425505  \n",
       "3    8.0       0     330        25      3     1.0  0.50  93.704912  \n",
       "4   14.0       8      -1        25      3     1.0  0.75  34.384843  "
      ]
     },
     "execution_count": 3,
     "metadata": {},
     "output_type": "execute_result"
    }
   ],
   "source": [
    "cereal_df.head()"
   ]
  },
  {
   "cell_type": "code",
   "execution_count": 4,
   "metadata": {},
   "outputs": [
    {
     "data": {
      "text/html": [
       "<div>\n",
       "<style scoped>\n",
       "    .dataframe tbody tr th:only-of-type {\n",
       "        vertical-align: middle;\n",
       "    }\n",
       "\n",
       "    .dataframe tbody tr th {\n",
       "        vertical-align: top;\n",
       "    }\n",
       "\n",
       "    .dataframe thead th {\n",
       "        text-align: right;\n",
       "    }\n",
       "</style>\n",
       "<table border=\"1\" class=\"dataframe\">\n",
       "  <thead>\n",
       "    <tr style=\"text-align: right;\">\n",
       "      <th></th>\n",
       "      <th>name</th>\n",
       "      <th>mfr</th>\n",
       "      <th>type</th>\n",
       "      <th>calories</th>\n",
       "      <th>protein</th>\n",
       "      <th>fat</th>\n",
       "      <th>sodium</th>\n",
       "      <th>fiber</th>\n",
       "      <th>carbo</th>\n",
       "      <th>sugars</th>\n",
       "      <th>potass</th>\n",
       "      <th>vitamins</th>\n",
       "    </tr>\n",
       "  </thead>\n",
       "  <tbody>\n",
       "    <tr>\n",
       "      <th>0</th>\n",
       "      <td>100% Bran</td>\n",
       "      <td>N</td>\n",
       "      <td>C</td>\n",
       "      <td>70</td>\n",
       "      <td>4</td>\n",
       "      <td>1</td>\n",
       "      <td>130</td>\n",
       "      <td>10.0</td>\n",
       "      <td>5.0</td>\n",
       "      <td>6</td>\n",
       "      <td>280</td>\n",
       "      <td>25</td>\n",
       "    </tr>\n",
       "    <tr>\n",
       "      <th>1</th>\n",
       "      <td>100% Natural Bran</td>\n",
       "      <td>Q</td>\n",
       "      <td>C</td>\n",
       "      <td>120</td>\n",
       "      <td>3</td>\n",
       "      <td>5</td>\n",
       "      <td>15</td>\n",
       "      <td>2.0</td>\n",
       "      <td>8.0</td>\n",
       "      <td>8</td>\n",
       "      <td>135</td>\n",
       "      <td>0</td>\n",
       "    </tr>\n",
       "    <tr>\n",
       "      <th>2</th>\n",
       "      <td>All-Bran</td>\n",
       "      <td>K</td>\n",
       "      <td>C</td>\n",
       "      <td>70</td>\n",
       "      <td>4</td>\n",
       "      <td>1</td>\n",
       "      <td>260</td>\n",
       "      <td>9.0</td>\n",
       "      <td>7.0</td>\n",
       "      <td>5</td>\n",
       "      <td>320</td>\n",
       "      <td>25</td>\n",
       "    </tr>\n",
       "    <tr>\n",
       "      <th>3</th>\n",
       "      <td>All-Bran with Extra Fiber</td>\n",
       "      <td>K</td>\n",
       "      <td>C</td>\n",
       "      <td>50</td>\n",
       "      <td>4</td>\n",
       "      <td>0</td>\n",
       "      <td>140</td>\n",
       "      <td>14.0</td>\n",
       "      <td>8.0</td>\n",
       "      <td>0</td>\n",
       "      <td>330</td>\n",
       "      <td>25</td>\n",
       "    </tr>\n",
       "    <tr>\n",
       "      <th>4</th>\n",
       "      <td>Almond Delight</td>\n",
       "      <td>R</td>\n",
       "      <td>C</td>\n",
       "      <td>110</td>\n",
       "      <td>2</td>\n",
       "      <td>2</td>\n",
       "      <td>200</td>\n",
       "      <td>1.0</td>\n",
       "      <td>14.0</td>\n",
       "      <td>8</td>\n",
       "      <td>-1</td>\n",
       "      <td>25</td>\n",
       "    </tr>\n",
       "  </tbody>\n",
       "</table>\n",
       "</div>"
      ],
      "text/plain": [
       "                        name mfr type  calories  protein  fat  sodium  fiber  \\\n",
       "0                  100% Bran   N    C        70        4    1     130   10.0   \n",
       "1          100% Natural Bran   Q    C       120        3    5      15    2.0   \n",
       "2                   All-Bran   K    C        70        4    1     260    9.0   \n",
       "3  All-Bran with Extra Fiber   K    C        50        4    0     140   14.0   \n",
       "4             Almond Delight   R    C       110        2    2     200    1.0   \n",
       "\n",
       "   carbo  sugars  potass  vitamins  \n",
       "0    5.0       6     280        25  \n",
       "1    8.0       8     135         0  \n",
       "2    7.0       5     320        25  \n",
       "3    8.0       0     330        25  \n",
       "4   14.0       8      -1        25  "
      ]
     },
     "execution_count": 4,
     "metadata": {},
     "output_type": "execute_result"
    }
   ],
   "source": [
    "# irrelevant fields\n",
    "fields = ['shelf', 'weight', 'cups', 'rating']\n",
    "cereal_df_new = cereal_df.drop(fields, axis = 1)\n",
    "cereal_df_new.head()"
   ]
  },
  {
   "cell_type": "code",
   "execution_count": 5,
   "metadata": {},
   "outputs": [
    {
     "data": {
      "text/html": [
       "<div>\n",
       "<style scoped>\n",
       "    .dataframe tbody tr th:only-of-type {\n",
       "        vertical-align: middle;\n",
       "    }\n",
       "\n",
       "    .dataframe tbody tr th {\n",
       "        vertical-align: top;\n",
       "    }\n",
       "\n",
       "    .dataframe thead th {\n",
       "        text-align: right;\n",
       "    }\n",
       "</style>\n",
       "<table border=\"1\" class=\"dataframe\">\n",
       "  <thead>\n",
       "    <tr style=\"text-align: right;\">\n",
       "      <th></th>\n",
       "      <th>calories</th>\n",
       "      <th>protein</th>\n",
       "      <th>fat</th>\n",
       "      <th>sodium</th>\n",
       "      <th>fiber</th>\n",
       "      <th>carbo</th>\n",
       "      <th>sugars</th>\n",
       "      <th>potass</th>\n",
       "      <th>vitamins</th>\n",
       "    </tr>\n",
       "  </thead>\n",
       "  <tbody>\n",
       "    <tr>\n",
       "      <th>calories</th>\n",
       "      <td>1.000000</td>\n",
       "      <td>0.019066</td>\n",
       "      <td>0.498610</td>\n",
       "      <td>0.300649</td>\n",
       "      <td>-0.293413</td>\n",
       "      <td>0.250681</td>\n",
       "      <td>0.562340</td>\n",
       "      <td>-0.066609</td>\n",
       "      <td>0.265356</td>\n",
       "    </tr>\n",
       "    <tr>\n",
       "      <th>protein</th>\n",
       "      <td>0.019066</td>\n",
       "      <td>1.000000</td>\n",
       "      <td>0.208431</td>\n",
       "      <td>-0.054674</td>\n",
       "      <td>0.500330</td>\n",
       "      <td>-0.130864</td>\n",
       "      <td>-0.329142</td>\n",
       "      <td>0.549407</td>\n",
       "      <td>0.007335</td>\n",
       "    </tr>\n",
       "    <tr>\n",
       "      <th>fat</th>\n",
       "      <td>0.498610</td>\n",
       "      <td>0.208431</td>\n",
       "      <td>1.000000</td>\n",
       "      <td>-0.005407</td>\n",
       "      <td>0.016719</td>\n",
       "      <td>-0.318043</td>\n",
       "      <td>0.270819</td>\n",
       "      <td>0.193279</td>\n",
       "      <td>-0.031156</td>\n",
       "    </tr>\n",
       "    <tr>\n",
       "      <th>sodium</th>\n",
       "      <td>0.300649</td>\n",
       "      <td>-0.054674</td>\n",
       "      <td>-0.005407</td>\n",
       "      <td>1.000000</td>\n",
       "      <td>-0.070675</td>\n",
       "      <td>0.355983</td>\n",
       "      <td>0.101451</td>\n",
       "      <td>-0.032603</td>\n",
       "      <td>0.361477</td>\n",
       "    </tr>\n",
       "    <tr>\n",
       "      <th>fiber</th>\n",
       "      <td>-0.293413</td>\n",
       "      <td>0.500330</td>\n",
       "      <td>0.016719</td>\n",
       "      <td>-0.070675</td>\n",
       "      <td>1.000000</td>\n",
       "      <td>-0.356083</td>\n",
       "      <td>-0.141205</td>\n",
       "      <td>0.903374</td>\n",
       "      <td>-0.032243</td>\n",
       "    </tr>\n",
       "    <tr>\n",
       "      <th>carbo</th>\n",
       "      <td>0.250681</td>\n",
       "      <td>-0.130864</td>\n",
       "      <td>-0.318043</td>\n",
       "      <td>0.355983</td>\n",
       "      <td>-0.356083</td>\n",
       "      <td>1.000000</td>\n",
       "      <td>-0.331665</td>\n",
       "      <td>-0.349685</td>\n",
       "      <td>0.258148</td>\n",
       "    </tr>\n",
       "    <tr>\n",
       "      <th>sugars</th>\n",
       "      <td>0.562340</td>\n",
       "      <td>-0.329142</td>\n",
       "      <td>0.270819</td>\n",
       "      <td>0.101451</td>\n",
       "      <td>-0.141205</td>\n",
       "      <td>-0.331665</td>\n",
       "      <td>1.000000</td>\n",
       "      <td>0.021696</td>\n",
       "      <td>0.125137</td>\n",
       "    </tr>\n",
       "    <tr>\n",
       "      <th>potass</th>\n",
       "      <td>-0.066609</td>\n",
       "      <td>0.549407</td>\n",
       "      <td>0.193279</td>\n",
       "      <td>-0.032603</td>\n",
       "      <td>0.903374</td>\n",
       "      <td>-0.349685</td>\n",
       "      <td>0.021696</td>\n",
       "      <td>1.000000</td>\n",
       "      <td>0.020699</td>\n",
       "    </tr>\n",
       "    <tr>\n",
       "      <th>vitamins</th>\n",
       "      <td>0.265356</td>\n",
       "      <td>0.007335</td>\n",
       "      <td>-0.031156</td>\n",
       "      <td>0.361477</td>\n",
       "      <td>-0.032243</td>\n",
       "      <td>0.258148</td>\n",
       "      <td>0.125137</td>\n",
       "      <td>0.020699</td>\n",
       "      <td>1.000000</td>\n",
       "    </tr>\n",
       "  </tbody>\n",
       "</table>\n",
       "</div>"
      ],
      "text/plain": [
       "          calories   protein       fat    sodium     fiber     carbo  \\\n",
       "calories  1.000000  0.019066  0.498610  0.300649 -0.293413  0.250681   \n",
       "protein   0.019066  1.000000  0.208431 -0.054674  0.500330 -0.130864   \n",
       "fat       0.498610  0.208431  1.000000 -0.005407  0.016719 -0.318043   \n",
       "sodium    0.300649 -0.054674 -0.005407  1.000000 -0.070675  0.355983   \n",
       "fiber    -0.293413  0.500330  0.016719 -0.070675  1.000000 -0.356083   \n",
       "carbo     0.250681 -0.130864 -0.318043  0.355983 -0.356083  1.000000   \n",
       "sugars    0.562340 -0.329142  0.270819  0.101451 -0.141205 -0.331665   \n",
       "potass   -0.066609  0.549407  0.193279 -0.032603  0.903374 -0.349685   \n",
       "vitamins  0.265356  0.007335 -0.031156  0.361477 -0.032243  0.258148   \n",
       "\n",
       "            sugars    potass  vitamins  \n",
       "calories  0.562340 -0.066609  0.265356  \n",
       "protein  -0.329142  0.549407  0.007335  \n",
       "fat       0.270819  0.193279 -0.031156  \n",
       "sodium    0.101451 -0.032603  0.361477  \n",
       "fiber    -0.141205  0.903374 -0.032243  \n",
       "carbo    -0.331665 -0.349685  0.258148  \n",
       "sugars    1.000000  0.021696  0.125137  \n",
       "potass    0.021696  1.000000  0.020699  \n",
       "vitamins  0.125137  0.020699  1.000000  "
      ]
     },
     "execution_count": 5,
     "metadata": {},
     "output_type": "execute_result"
    }
   ],
   "source": [
    "#corr()\n",
    "cereal_corr = cereal_df_new.corr()\n",
    "cereal_corr"
   ]
  },
  {
   "cell_type": "code",
   "execution_count": 6,
   "metadata": {},
   "outputs": [
    {
     "data": {
      "text/plain": [
       "array([[ True,  True,  True,  True,  True,  True,  True,  True,  True],\n",
       "       [ True,  True,  True,  True,  True,  True,  True,  True,  True],\n",
       "       [ True,  True,  True,  True,  True,  True,  True,  True,  True],\n",
       "       [ True,  True,  True,  True,  True,  True,  True,  True,  True],\n",
       "       [ True,  True,  True,  True,  True,  True,  True,  True,  True],\n",
       "       [ True,  True,  True,  True,  True,  True,  True,  True,  True],\n",
       "       [ True,  True,  True,  True,  True,  True,  True,  True,  True],\n",
       "       [ True,  True,  True,  True,  True,  True,  True,  True,  True],\n",
       "       [ True,  True,  True,  True,  True,  True,  True,  True,  True]])"
      ]
     },
     "execution_count": 6,
     "metadata": {},
     "output_type": "execute_result"
    }
   ],
   "source": [
    "#ones_like can build a matrix of booleans(true, false) witf the same shape as our data\n",
    "ones_corr = np.ones_like(cereal_corr, dtype = bool)\n",
    "ones_corr"
   ]
  },
  {
   "cell_type": "code",
   "execution_count": 7,
   "metadata": {},
   "outputs": [
    {
     "data": {
      "text/plain": [
       "((9, 9), (9, 9))"
      ]
     },
     "execution_count": 7,
     "metadata": {},
     "output_type": "execute_result"
    }
   ],
   "source": [
    "ones_corr.shape, cereal_corr.shape"
   ]
  },
  {
   "cell_type": "code",
   "execution_count": 8,
   "metadata": {},
   "outputs": [
    {
     "data": {
      "text/plain": [
       "array([[ True,  True,  True,  True,  True,  True,  True,  True,  True],\n",
       "       [False,  True,  True,  True,  True,  True,  True,  True,  True],\n",
       "       [False, False,  True,  True,  True,  True,  True,  True,  True],\n",
       "       [False, False, False,  True,  True,  True,  True,  True,  True],\n",
       "       [False, False, False, False,  True,  True,  True,  True,  True],\n",
       "       [False, False, False, False, False,  True,  True,  True,  True],\n",
       "       [False, False, False, False, False, False,  True,  True,  True],\n",
       "       [False, False, False, False, False, False, False,  True,  True],\n",
       "       [False, False, False, False, False, False, False, False,  True]])"
      ]
     },
     "execution_count": 8,
     "metadata": {},
     "output_type": "execute_result"
    }
   ],
   "source": [
    "mask = np.triu(ones_corr)\n",
    "mask"
   ]
  },
  {
   "cell_type": "code",
   "execution_count": 10,
   "metadata": {},
   "outputs": [
    {
     "data": {
      "image/png": "[encoded data removed]",
      "text/plain": [
       "<Figure size 432x288 with 2 Axes>"
      ]
     },
     "metadata": {
      "needs_background": "light"
     },
     "output_type": "display_data"
    }
   ],
   "source": [
    "sns.heatmap(data = cereal_corr, mask = mask);"
   ]
  },
  {
   "cell_type": "code",
   "execution_count": 11,
   "metadata": {},
   "outputs": [
    {
     "data": {
      "text/plain": [
       "array([[False,  True,  True,  True,  True,  True,  True,  True],\n",
       "       [False, False,  True,  True,  True,  True,  True,  True],\n",
       "       [False, False, False,  True,  True,  True,  True,  True],\n",
       "       [False, False, False, False,  True,  True,  True,  True],\n",
       "       [False, False, False, False, False,  True,  True,  True],\n",
       "       [False, False, False, False, False, False,  True,  True],\n",
       "       [False, False, False, False, False, False, False,  True],\n",
       "       [False, False, False, False, False, False, False, False]])"
      ]
     },
     "execution_count": 11,
     "metadata": {},
     "output_type": "execute_result"
    }
   ],
   "source": [
    "adjusted_mask = mask[1:, :-1]\n",
    "adjusted_mask"
   ]
  },
  {
   "cell_type": "code",
   "execution_count": 12,
   "metadata": {},
   "outputs": [],
   "source": [
    "adjusted_cereal_corr = cereal_corr.iloc[1:, :-1]"
   ]
  },
  {
   "cell_type": "code",
   "execution_count": 31,
   "metadata": {},
   "outputs": [
    {
     "data": {
      "image/png": "[encoded data removed]",
      "text/plain": [
       "<Figure size 720x576 with 2 Axes>"
      ]
     },
     "metadata": {
      "needs_background": "light"
     },
     "output_type": "display_data"
    }
   ],
   "source": [
    "fig, ax = plt.subplots(figsize = (10,8))\n",
    "cmap = sns.diverging_palette(0, 230, 90, 60, as_cmap = True)\n",
    "sns.heatmap(data = adjusted_cereal_corr, mask = adjusted_mask, \n",
    "            annot = True,fmt = \".2f\", cmap = cmap,\n",
    "            vmin = -1, vmax = 1, \n",
    "            linecolor = 'white', linewidths = 0.5);\n",
    "yticks = [i.upper() for i in adjusted_cereal_corr.index]\n",
    "xticks = [i.upper() for i in adjusted_cereal_corr.columns]\n",
    "ax.set_yticklabels(yticks, rotation = 0, fontsize = 13);\n",
    "ax.set_xticklabels(xticks, rotation = 90, fontsize = 13);\n",
    "title = 'CORRELATION MATRIX \\nSAMPLE CEREALS COMPOSITION\\n'\n",
    "ax.set_title(title, loc = 'left', fontsize = 18);"
   ]
  },
  {
   "cell_type": "code",
   "execution_count": null,
   "metadata": {},
   "outputs": [],
   "source": []
  }
 ],
 "metadata": {
  "interpreter": {
   "hash": "11f1dc213e07634baa4c5c321dec03c05dafae643c50f20e6d1a492290c05dc2"
  },
  "kernelspec": {
   "display_name": "Python 3.9.6 64-bit",
   "language": "python",
   "name": "python3"
  },
  "language_info": {
   "codemirror_mode": {
    "name": "ipython",
    "version": 3
   },
   "file_extension": ".py",
   "mimetype": "text/x-python",
   "name": "python",
   "nbconvert_exporter": "python",
   "pygments_lexer": "ipython3",
   "version": "3.9.6"
  },
  "orig_nbformat": 4
 },
 "nbformat": 4,
 "nbformat_minor": 2
}
