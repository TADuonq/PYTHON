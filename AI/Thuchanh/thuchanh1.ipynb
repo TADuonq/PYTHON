{
 "cells": [
  {
   "cell_type": "code",
   "execution_count": 1,
   "metadata": {},
   "outputs": [],
   "source": [
    "class Node:\n",
    "    def __init__(self, name, par = None):\n",
    "        self.name = name\n",
    "        self.par = par\n",
    "    def display(self):\n",
    "        print(self.name)"
   ]
  },
  {
   "cell_type": "code",
   "execution_count": 2,
   "metadata": {},
   "outputs": [],
   "source": [
    "from collections import defaultdict"
   ]
  },
  {
   "cell_type": "code",
   "execution_count": 3,
   "metadata": {},
   "outputs": [],
   "source": [
    "data = defaultdict(list)\n",
    "data['S'] = ['A', 'B']\n",
    "data['B'] = ['E', 'F']\n",
    "data['A'] = ['C', 'D']\n",
    "data['C'] = ['G']\n",
    "data['D'] = ['H']\n",
    "data['E'] = ['D']\n",
    "data['F'] = ['I']\n",
    "data['I'] = ['H']\n",
    "data['H'] = ['G']\n",
    "data['G'] = []"
   ]
  },
  {
   "cell_type": "code",
   "execution_count": 4,
   "metadata": {},
   "outputs": [],
   "source": [
    "def equal(O, M):\n",
    "    return O.name == M.name\n",
    "\n",
    "def checkInArray(tmp, Open):\n",
    "    for x in Open:\n",
    "        if equal(x, tmp):\n",
    "            return True\n",
    "        return False\n",
    "\n",
    "def path(O):\n",
    "    print(O.name)\n",
    "    if O.par != None:\n",
    "        path(O.par)\n",
    "    else:\n",
    "        return"
   ]
  },
  {
   "cell_type": "code",
   "execution_count": 5,
   "metadata": {},
   "outputs": [],
   "source": [
    "def BFS(N = Node('S'), M = Node('I')):\n",
    "    Open = []\n",
    "    Closed = []\n",
    "    Open.append(N)\n",
    "    while True:\n",
    "        if len(Open) == 0:\n",
    "            print('Tìm kiếm thất bại')\n",
    "            return\n",
    "        O = Open.pop(0)\n",
    "        Closed.append(O)\n",
    "        \n",
    "        if equal(O, M) == True:\n",
    "            print('Tìm kiếm thành công')\n",
    "            path(O)\n",
    "            return\n",
    "        for x in data[O.name]:\n",
    "            tmp = Node(x)\n",
    "            tmp.par = O\n",
    "            \n",
    "            ok1 = checkInArray(tmp, Open)\n",
    "            ok2 = checkInArray(tmp, Closed)\n",
    "            \n",
    "            if not ok1 and not ok2:\n",
    "                Open.append(tmp)"
   ]
  },
  {
   "cell_type": "code",
   "execution_count": 6,
   "metadata": {},
   "outputs": [
    {
     "name": "stdout",
     "output_type": "stream",
     "text": [
      "Tìm kiếm thành công\n",
      "G\n",
      "C\n",
      "A\n",
      "S\n"
     ]
    }
   ],
   "source": [
    "BFS(Node('S'), Node('G'))"
   ]
  }
 ],
 "metadata": {
  "interpreter": {
   "hash": "11f1dc213e07634baa4c5c321dec03c05dafae643c50f20e6d1a492290c05dc2"
  },
  "kernelspec": {
   "display_name": "Python 3.9.6 64-bit",
   "language": "python",
   "name": "python3"
  },
  "language_info": {
   "codemirror_mode": {
    "name": "ipython",
    "version": 3
   },
   "file_extension": ".py",
   "mimetype": "text/x-python",
   "name": "python",
   "nbconvert_exporter": "python",
   "pygments_lexer": "ipython3",
   "version": "3.9.6"
  },
  "orig_nbformat": 4
 },
 "nbformat": 4,
 "nbformat_minor": 2
}
