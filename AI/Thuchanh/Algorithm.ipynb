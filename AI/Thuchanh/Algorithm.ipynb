{
 "cells": [
  {
   "cell_type": "code",
   "execution_count": 88,
   "metadata": {},
   "outputs": [],
   "source": [
    "from collections import defaultdict\n",
    "from queue import PriorityQueue"
   ]
  },
  {
   "cell_type": "code",
   "execution_count": 89,
   "metadata": {},
   "outputs": [],
   "source": [
    "data = defaultdict(list)\n",
    "data['S'] = ['A', 1, 'B', 5, 9] \n",
    "data['A'] = ['B', 2, 'C', 3, 8]\n",
    "data['B'] = ['D', 3, 'E', 3, 6]\n",
    "data['C'] = ['B', 4, 'F', 5, 7]\n",
    "data['D'] = ['F', 6, 4]\n",
    "data['E'] = ['D', 6, 'G', 10, 6]\n",
    "data['F'] = ['G', 5, 3]\n",
    "data['G'] = [0]"
   ]
  },
  {
   "cell_type": "code",
   "execution_count": 90,
   "metadata": {},
   "outputs": [],
   "source": [
    "class Node:\n",
    "    def __init__(self, name, par = None, g = 0, h = 0):\n",
    "        self.name = name\n",
    "        self.par = par\n",
    "        self.g = g\n",
    "        self.h = h\n",
    "        \n",
    "    def display(self):\n",
    "        print(self.name, self.g, self.h)\n",
    "        \n",
    "    def __lt__(self, other):\n",
    "        if other == None:\n",
    "            return False\n",
    "        return self.g + self.h < other.g + other.h\n",
    "    \n",
    "    def __eq__(self, other):\n",
    "        if other == None:\n",
    "            return False\n",
    "        return self.name == other.name"
   ]
  },
  {
   "cell_type": "code",
   "execution_count": 91,
   "metadata": {},
   "outputs": [],
   "source": [
    "def equal(O, G):\n",
    "    if O.name == G.name:\n",
    "        return True\n",
    "    return False\n",
    "\n",
    "def checkInPriority(tmp, c):\n",
    "    if tmp == None:\n",
    "        return False\n",
    "    return (tmp in c.queue)\n",
    "\n",
    "def getPath(O):\n",
    "    print(O.name)\n",
    "    if O.par != None:\n",
    "        getPath(O.par)\n",
    "    else:\n",
    "        return"
   ]
  },
  {
   "cell_type": "code",
   "execution_count": 92,
   "metadata": {},
   "outputs": [],
   "source": [
    "def AStar(S = Node('S'), G = Node('G')):\n",
    "    Open = PriorityQueue()\n",
    "    Closed = PriorityQueue()\n",
    "    S.h = data[S.name][-1]\n",
    "    Open.put(S)\n",
    "    \n",
    "    while True:\n",
    "        if Open.empty() == True:\n",
    "            print(\"Tim kiem that bai\")\n",
    "            return\n",
    "        O = Open.get()\n",
    "        Closed.put(O)\n",
    "        print('Duyet: ', O.name, O.g, O.h)\n",
    "        \n",
    "        if equal(O, G) == True:\n",
    "            print(\"Tim kiem thanh cong\")\n",
    "            getPath(O)\n",
    "            print(O.g + O.h)\n",
    "            return\n",
    "        i = 0\n",
    "        while i < len(data[O.name]) - 1:\n",
    "            name = data[O.name][i]\n",
    "            g = O.g + data[O.name][i + 1]\n",
    "            h = data[name][-1]\n",
    "            tmp = Node(name = name, g = g, h = h)\n",
    "            tmp.par = O\n",
    "            \n",
    "            ok1 = checkInPriority(tmp, Open)\n",
    "            ok2 = checkInPriority(tmp, Closed)\n",
    "            if not ok1 and not ok2:\n",
    "                Open.put(tmp)\n",
    "            i += 2\n",
    "            "
   ]
  },
  {
   "cell_type": "code",
   "execution_count": 93,
   "metadata": {},
   "outputs": [
    {
     "name": "stdout",
     "output_type": "stream",
     "text": [
      "Duyet:  S 0 9\n",
      "Duyet:  A 1 8\n",
      "Duyet:  B 5 6\n",
      "Duyet:  C 4 7\n",
      "Duyet:  D 8 4\n",
      "Duyet:  F 9 3\n",
      "Duyet:  E 8 6\n",
      "Duyet:  G 14 0\n",
      "Tim kiem thanh cong\n",
      "G\n",
      "F\n",
      "C\n",
      "A\n",
      "S\n",
      "14\n"
     ]
    }
   ],
   "source": [
    "AStar(Node('S'), Node('G'))"
   ]
  }
 ],
 "metadata": {
  "interpreter": {
   "hash": "11f1dc213e07634baa4c5c321dec03c05dafae643c50f20e6d1a492290c05dc2"
  },
  "kernelspec": {
   "display_name": "Python 3.9.6 64-bit",
   "language": "python",
   "name": "python3"
  },
  "language_info": {
   "codemirror_mode": {
    "name": "ipython",
    "version": 3
   },
   "file_extension": ".py",
   "mimetype": "text/x-python",
   "name": "python",
   "nbconvert_exporter": "python",
   "pygments_lexer": "ipython3",
   "version": "3.9.6"
  },
  "orig_nbformat": 4
 },
 "nbformat": 4,
 "nbformat_minor": 2
}
