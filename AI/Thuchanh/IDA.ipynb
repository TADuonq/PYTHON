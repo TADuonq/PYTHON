{
 "cells": [
  {
   "cell_type": "code",
   "execution_count": 1,
   "metadata": {},
   "outputs": [],
   "source": [
    "from collections import deque"
   ]
  },
  {
   "cell_type": "code",
   "execution_count": 2,
   "metadata": {},
   "outputs": [],
   "source": [
    "def iterative_deepening_a_star(tree, heuristic, start, goal):\n",
    "    threshold = heuristic[start][goal]\n",
    "    while True:\n",
    "        print(\"Iteration with threshold: \" + str(threshold))\n",
    "        distance = iterative_deepening_a_star_rec(tree, heuristic, start, goal, 0, threshold)\n",
    "        if distance == float(\"inf\"):\n",
    "            return -1\n",
    "        elif distance < 0:\n",
    "            print(\"Found the node we're looking for!\")\n",
    "            return -distance\n",
    "        else:\n",
    "            threshold = distance\n"
   ]
  },
  {
   "cell_type": "code",
   "execution_count": 3,
   "metadata": {},
   "outputs": [],
   "source": [
    "def iterative_deepening_a_star_rec(tree, heuristic, node, goal, distance, threshold):\n",
    "    print(\"Visiting Node \" + str(node))\n",
    "\n",
    "    if node == goal:\n",
    "        return -distance\n",
    "\n",
    "    estimate = distance + heuristic[node][goal]\n",
    "    if estimate > threshold:\n",
    "        print(\"Breached threshold with heuristic: \" + str(estimate))\n",
    "        return estimate\n",
    "\n",
    "    min = float(\"inf\")\n",
    "    for i in range(len(tree[node])):\n",
    "        if tree[node][i] != 0:\n",
    "            t = iterative_deepening_a_star_rec(tree, heuristic, i, goal, distance + tree[node][i], threshold)\n",
    "            if t < 0:\n",
    "                return t\n",
    "            elif t < min:\n",
    "                min = t\n",
    "\n",
    "    return min"
   ]
  },
  {
   "cell_type": "code",
   "execution_count": null,
   "metadata": {},
   "outputs": [],
   "source": []
  }
 ],
 "metadata": {
  "interpreter": {
   "hash": "11f1dc213e07634baa4c5c321dec03c05dafae643c50f20e6d1a492290c05dc2"
  },
  "kernelspec": {
   "display_name": "Python 3.9.6 64-bit",
   "language": "python",
   "name": "python3"
  },
  "language_info": {
   "codemirror_mode": {
    "name": "ipython",
    "version": 3
   },
   "file_extension": ".py",
   "mimetype": "text/x-python",
   "name": "python",
   "nbconvert_exporter": "python",
   "pygments_lexer": "ipython3",
   "version": "3.9.6"
  },
  "orig_nbformat": 4
 },
 "nbformat": 4,
 "nbformat_minor": 2
}
